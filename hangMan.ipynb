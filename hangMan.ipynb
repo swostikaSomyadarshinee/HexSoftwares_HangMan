{
 "cells": [
  {
   "cell_type": "code",
   "execution_count": 1,
   "id": "afedd0c0-8742-44b1-b40b-86e60e7b9065",
   "metadata": {},
   "outputs": [
    {
     "name": "stdout",
     "output_type": "stream",
     "text": [
      "Let's play Hangman!\n",
      "Hint: A communication device\n",
      "A letter has been revealed: N\n",
      "\n",
      "                   -----\n",
      "                   |   |\n",
      "                   |   \n",
      "                   |   \n",
      "                   |   \n",
      "                   |  \n",
      "                ---------\n",
      "                \n",
      "_ _ _ N _ \n",
      "\n",
      "\n"
     ]
    },
    {
     "name": "stdin",
     "output_type": "stream",
     "text": [
      "Please guess a letter or word:  p\n"
     ]
    },
    {
     "name": "stdout",
     "output_type": "stream",
     "text": [
      "Good job, P is in the word!\n",
      "\n",
      "                   -----\n",
      "                   |   |\n",
      "                   |   \n",
      "                   |   \n",
      "                   |   \n",
      "                   |  \n",
      "                ---------\n",
      "                \n",
      "P _ _ N _ \n",
      "\n",
      "\n"
     ]
    },
    {
     "name": "stdin",
     "output_type": "stream",
     "text": [
      "Please guess a letter or word:  f\n"
     ]
    },
    {
     "name": "stdout",
     "output_type": "stream",
     "text": [
      "F is not in the word.\n",
      "\n",
      "                   -----\n",
      "                   |   |\n",
      "                   |   O\n",
      "                   |   \n",
      "                   |   \n",
      "                   |  \n",
      "                ---------\n",
      "                \n",
      "P _ _ N _ \n",
      "\n",
      "\n"
     ]
    },
    {
     "name": "stdin",
     "output_type": "stream",
     "text": [
      "Please guess a letter or word:  s\n"
     ]
    },
    {
     "name": "stdout",
     "output_type": "stream",
     "text": [
      "S is not in the word.\n",
      "\n",
      "                   -----\n",
      "                   |   |\n",
      "                   |   O\n",
      "                   |   |\n",
      "                   |   |\n",
      "                   |  \n",
      "                ---------\n",
      "                \n",
      "P _ _ N _ \n",
      "\n",
      "\n"
     ]
    },
    {
     "name": "stdin",
     "output_type": "stream",
     "text": [
      "Please guess a letter or word:  t\n"
     ]
    },
    {
     "name": "stdout",
     "output_type": "stream",
     "text": [
      "T is not in the word.\n",
      "\n",
      "                   -----\n",
      "                   |   |\n",
      "                   |   O\n",
      "                   |  \\|\n",
      "                   |   |\n",
      "                   |  \n",
      "                ---------\n",
      "                \n",
      "P _ _ N _ \n",
      "\n",
      "\n"
     ]
    },
    {
     "name": "stdin",
     "output_type": "stream",
     "text": [
      "Please guess a letter or word:  v\n"
     ]
    },
    {
     "name": "stdout",
     "output_type": "stream",
     "text": [
      "V is not in the word.\n",
      "\n",
      "                   -----\n",
      "                   |   |\n",
      "                   |   O\n",
      "                   |  \\|/\n",
      "                   |   |\n",
      "                   |  \n",
      "                ---------\n",
      "                \n",
      "P _ _ N _ \n",
      "\n",
      "\n"
     ]
    },
    {
     "name": "stdin",
     "output_type": "stream",
     "text": [
      "Please guess a letter or word:  h\n"
     ]
    },
    {
     "name": "stdout",
     "output_type": "stream",
     "text": [
      "Good job, H is in the word!\n",
      "\n",
      "                   -----\n",
      "                   |   |\n",
      "                   |   O\n",
      "                   |  \\|/\n",
      "                   |   |\n",
      "                   |  \n",
      "                ---------\n",
      "                \n",
      "P H _ N _ \n",
      "\n",
      "\n"
     ]
    },
    {
     "name": "stdin",
     "output_type": "stream",
     "text": [
      "Please guess a letter or word:  o\n"
     ]
    },
    {
     "name": "stdout",
     "output_type": "stream",
     "text": [
      "Good job, O is in the word!\n",
      "\n",
      "                   -----\n",
      "                   |   |\n",
      "                   |   O\n",
      "                   |  \\|/\n",
      "                   |   |\n",
      "                   |  \n",
      "                ---------\n",
      "                \n",
      "P H O N _ \n",
      "\n",
      "\n"
     ]
    },
    {
     "name": "stdin",
     "output_type": "stream",
     "text": [
      "Please guess a letter or word:  e\n"
     ]
    },
    {
     "name": "stdout",
     "output_type": "stream",
     "text": [
      "Good job, E is in the word!\n",
      "\n",
      "                   -----\n",
      "                   |   |\n",
      "                   |   O\n",
      "                   |  \\|/\n",
      "                   |   |\n",
      "                   |  \n",
      "                ---------\n",
      "                \n",
      "P H O N E \n",
      "\n",
      "\n",
      "Congrats, you guessed the word! You win!\n"
     ]
    },
    {
     "name": "stdin",
     "output_type": "stream",
     "text": [
      "Play Again? (Y/N)  n\n"
     ]
    }
   ],
   "source": [
    "import random\n",
    "\n",
    "def display_hangman(tries):\n",
    "    stages = [  # final state: head, torso, both arms, and both legs\n",
    "                \"\"\"\n",
    "                   -----\n",
    "                   |   |\n",
    "                   |   O\n",
    "                   |  \\\\|/\n",
    "                   |   |\n",
    "                   |  / \\\\\n",
    "                ---------\n",
    "                \"\"\",\n",
    "                # head, torso, both arms, and one leg\n",
    "                \"\"\"\n",
    "                   -----\n",
    "                   |   |\n",
    "                   |   O\n",
    "                   |  \\\\|/\n",
    "                   |   |\n",
    "                   |  / \n",
    "                ---------\n",
    "                \"\"\",\n",
    "                # head, torso, and both arms\n",
    "                \"\"\"\n",
    "                   -----\n",
    "                   |   |\n",
    "                   |   O\n",
    "                   |  \\\\|/\n",
    "                   |   |\n",
    "                   |  \n",
    "                ---------\n",
    "                \"\"\",\n",
    "                # head, torso, and one arm\n",
    "                \"\"\"\n",
    "                   -----\n",
    "                   |   |\n",
    "                   |   O\n",
    "                   |  \\\\|\n",
    "                   |   |\n",
    "                   |  \n",
    "                ---------\n",
    "                \"\"\",\n",
    "                # head and torso\n",
    "                \"\"\"\n",
    "                   -----\n",
    "                   |   |\n",
    "                   |   O\n",
    "                   |   |\n",
    "                   |   |\n",
    "                   |  \n",
    "                ---------\n",
    "                \"\"\",\n",
    "                # head\n",
    "                \"\"\"\n",
    "                   -----\n",
    "                   |   |\n",
    "                   |   O\n",
    "                   |   \n",
    "                   |   \n",
    "                   |  \n",
    "                ---------\n",
    "                \"\"\",\n",
    "                # initial empty state\n",
    "                \"\"\"\n",
    "                   -----\n",
    "                   |   |\n",
    "                   |   \n",
    "                   |   \n",
    "                   |   \n",
    "                   |  \n",
    "                ---------\n",
    "                \"\"\"\n",
    "    ]\n",
    "    return stages[tries]\n",
    "\n",
    "def get_word():\n",
    "    words_with_hints = {\n",
    "        'python': 'A popular programming language',\n",
    "        'java': 'A widely-used programming language, often used in web applications',\n",
    "        'kotlin': 'A modern language, interoperable with Java, used for Android development',\n",
    "        'javascript': 'A programming language primarily used in web development',\n",
    "        'hangman': 'The game you are currently playing',\n",
    "        'apple': 'A fruit or a well-known tech company',\n",
    "        'book': 'A collection of written pages',\n",
    "        'house': 'A place where people live',\n",
    "        'water': 'A vital liquid for all living things',\n",
    "        'phone': 'A communication device',\n",
    "        'chair': 'An object you sit on',\n",
    "        'table': 'An item of furniture often found in dining rooms',\n",
    "        'garden': 'An area where plants, flowers, or vegetables are grown',\n",
    "        'music': 'An art form that involves organized sound',\n",
    "        'school': 'A place where people go to learn'\n",
    "    }\n",
    "\n",
    "    word = random.choice(list(words_with_hints.keys())).upper()\n",
    "    hint = words_with_hints[word.lower()]\n",
    "    return word, hint\n",
    "\n",
    "def reveal_random_letter(word, word_completion):\n",
    "    random_letter = random.choice(word)\n",
    "    word_as_list = list(word_completion)\n",
    "    for i, letter in enumerate(word):\n",
    "        if letter == random_letter:\n",
    "            word_as_list[i * 2] = letter  # Multiply by 2 to account for spaces between underscores\n",
    "    return \"\".join(word_as_list), random_letter\n",
    "\n",
    "def play(word, hint):\n",
    "    word_completion = \"_ \" * len(word)  # String that shows the current guessed letters\n",
    "    guessed = False\n",
    "    guessed_letters = []  # List to keep track of guessed letters\n",
    "    guessed_words = []  # List to keep track of guessed words\n",
    "    tries = 6  # Total number of tries\n",
    "    \n",
    "    # Reveal a random letter at the start\n",
    "    word_completion, revealed_letter = reveal_random_letter(word, word_completion)\n",
    "    guessed_letters.append(revealed_letter)\n",
    "\n",
    "    print(\"Let's play Hangman!\")\n",
    "    print(f\"Hint: {hint}\")\n",
    "    print(f\"A letter has been revealed: {revealed_letter}\")\n",
    "    print(display_hangman(tries))\n",
    "    print(word_completion)\n",
    "    print(\"\\n\")\n",
    "    \n",
    "    while not guessed and tries > 0:\n",
    "        guess = input(\"Please guess a letter or word: \").upper()\n",
    "        if len(guess) == 1 and guess.isalpha():\n",
    "            if guess in guessed_letters:\n",
    "                print(\"You already guessed the letter\", guess)\n",
    "            elif guess not in word:\n",
    "                print(guess, \"is not in the word.\")\n",
    "                tries -= 1\n",
    "                guessed_letters.append(guess)\n",
    "            else:\n",
    "                print(\"Good job,\", guess, \"is in the word!\")\n",
    "                guessed_letters.append(guess)\n",
    "                word_as_list = list(word_completion)\n",
    "                indices = [i for i, letter in enumerate(word) if letter == guess]\n",
    "                for index in indices:\n",
    "                    word_as_list[index * 2] = guess  # Multiply by 2 to account for spaces between underscores\n",
    "                word_completion = \"\".join(word_as_list)\n",
    "                if \"_ \" not in word_completion:\n",
    "                    guessed = True\n",
    "        elif len(guess) == len(word) and guess.isalpha():\n",
    "            if guess in guessed_words:\n",
    "                print(\"You already guessed the word\", guess)\n",
    "            elif guess != word:\n",
    "                print(guess, \"is not the word.\")\n",
    "                tries -= 1\n",
    "                guessed_words.append(guess)\n",
    "            else:\n",
    "                guessed = True\n",
    "                word_completion = word\n",
    "        else:\n",
    "            print(\"Not a valid guess.\")\n",
    "        \n",
    "        print(display_hangman(tries))\n",
    "        print(word_completion)\n",
    "        print(\"\\n\")\n",
    "    \n",
    "    if guessed:\n",
    "        print(\"Congrats, you guessed the word! You win!\")\n",
    "    else:\n",
    "        print(\"Sorry, you ran out of tries. The word was \" + word + \". Maybe next time!\")\n",
    "\n",
    "def hangman():\n",
    "    word, hint = get_word()\n",
    "    play(word, hint)\n",
    "    while input(\"Play Again? (Y/N) \").upper() == \"Y\":\n",
    "        word, hint = get_word()\n",
    "        play(word, hint)\n",
    "\n",
    "if __name__ == \"__main__\":\n",
    "    hangman()\n"
   ]
  }
 ],
 "metadata": {
  "kernelspec": {
   "display_name": "Python 3 (ipykernel)",
   "language": "python",
   "name": "python3"
  },
  "language_info": {
   "codemirror_mode": {
    "name": "ipython",
    "version": 3
   },
   "file_extension": ".py",
   "mimetype": "text/x-python",
   "name": "python",
   "nbconvert_exporter": "python",
   "pygments_lexer": "ipython3",
   "version": "3.11.7"
  }
 },
 "nbformat": 4,
 "nbformat_minor": 5
}
